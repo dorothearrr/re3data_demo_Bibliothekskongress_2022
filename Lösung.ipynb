{
 "cells": [
  {
   "cell_type": "markdown",
   "metadata": {},
   "source": [
    "# Develop & Curate – Einträge für Forschungsdatenrepositorien in re3data erstellen, bearbeiten, durchsuchen und nachnutzen\n",
    "## 8. Bibliothekskongress 2022 Leipzig"
   ]
  },
  {
   "cell_type": "markdown",
   "metadata": {},
   "source": [
    "### Anwendungsfall: Repositorien identifizieren, an deren Betrieb eine bestimmte Einrichtung beteiligt ist\n",
    "Für einen Bericht sollen alle Forschungsdatenrepositorien identifiziert werden, an deren Betrieb das KIT beteiligt ist.\n",
    "Repositorien, die diese Bedingung erfüllen, können über die re3data API ermittelt werden. Die API bietet auch die Möglichkeit, weitere Informationen über diese Repositorien abzurufen, wie der Name des Repositories oder eine Beschreibung.\n",
    "\n",
    "#### Schritt 1: Pakete laden\n",
    "Das Paket **httr** enthält die HTTP-Methode GET, mit der Daten von der re3data API angefordert werden. Die re3data API liefert Daten in XML. **xml2** enthält Funktionen für die Arbeit mit XML, z. B. zum Parsen oder Extrahieren des Inhalts bestimmter Elemente. Installieren Sie gegebenenfalls die Pakete, bevor Sie sie laden."
   ]
  },
  {
   "cell_type": "code",
   "execution_count": 4,
   "metadata": {},
   "outputs": [
    {
     "name": "stderr",
     "output_type": "stream",
     "text": [
      "Warning message:\n",
      "\"package 'httr' was built under R version 4.1.1\"\n",
      "Warning message:\n",
      "\"package 'xml2' was built under R version 4.1.2\"\n"
     ]
    }
   ],
   "source": [
    "#install.packages(\"htttr\")\n",
    "#install.packages(\"xml2\")\n",
    "library(httr)\n",
    "library(xml2)"
   ]
  },
  {
   "cell_type": "markdown",
   "metadata": {},
   "source": [
    "#### Schritt 2: Abfrageparameter definieren\n",
    "Informationen über einzelne Repositorien können anhand der re3data ID extrahiert werden. Daher müssen zunächst re3data IDs von Repositories mit den gewünschten Eigenschaften identifiziert werden.\n",
    "\n",
    "Die re3data API ermöglicht eine Suche in bestimmten Feldern über den endpoint **/api/beta/repositories**. Die Parameter, die über diesen endpoint durchsucht werden können, sind in der [Dokumentation der re3data API](https://www.re3data.org/api/doc) aufgeführt. Weitere Informationen zu re3data Metadaten, einschließlich Beschreibungen der verfügbaren Elemente und kontrollierten Vokabularen, finden Sie in der Dokumentation des [re3data Metadatenschemas](https://doi.org/10.2312/re3.006) (die API basiert auf Version 2.2 des re3data-Metadatenschemas).\n",
    "\n",
    "Für den beschriebenen Anwendungsfall eignet sich am besten eine Suche nach der ROR ID des KIT (04t3en479) über alle Felder. Dafür wird an die base URL des API endpoints der string **query=04t3en479** angehängt.\n",
    "\n",
    "ROR IDs von Einrichtungen können über die [ROR Suchfunktion](https://ror.org/search) ermittelt werden."
   ]
  },
  {
   "cell_type": "code",
   "execution_count": 5,
   "metadata": {},
   "outputs": [],
   "source": [
    "re3data_query <- \"https://www.re3data.org/api/beta/repositories?query=04t3en479\""
   ]
  },
  {
   "cell_type": "markdown",
   "metadata": {},
   "source": [
    "### Schritt 3: URLs für weitere Abfragen erstellen\n",
    "Die im vorangegangenen Schritt definierte Abfrage kann über **GET** an die re3data API übergeben werden.\n",
    "\n",
    "Die response wird mit **read_XML** geparst, da sie URLs für weitere Abfragen an den Endpunkt **/api/beta/repository** enthält. Diese URLs können mit einem einfachen XPath-Ausdruck identifiziert werden. Alle Elemente, die dem XPath-Ausdruck entsprechen, werden mit **xml_find_all** gefunden, und ihr Inhalt wird mit **xml_text** extrahiert.\n",
    "\n",
    "Die drei Funktionen sind im folgenden Beispiel ineinander verschachtelt."
   ]
  },
  {
   "cell_type": "code",
   "execution_count": 8,
   "metadata": {},
   "outputs": [],
   "source": [
    "re3data_request <- GET(re3data_query) \n",
    "\n",
    "URLs <- xml_text(xml_find_all(read_xml(re3data_request), xpath = \"//@href\"))"
   ]
  },
  {
   "cell_type": "markdown",
   "metadata": {},
   "source": [
    "#### Schritt 4: Definieren, welche Informationen über die Repositorien abgefragt werden sollen\n",
    "Die im folgenden Codeblock definierte Funktion **extract_repository_info** extrahiert den Inhalt bestimmter XML-Elemente. Diese Funktion wird später verwendet, um die gewünschten Informationen aus der API response zu ziehen. Die Grundstruktur der Funktion ähnelt dem Prozess, der in Schritt 3 oben beschrieben wurde.\n",
    "Die hier definierten XPath-Ausdrücke extrahieren die re3data ID, Namen, URL und Beschreibung für jedes Repositorium. Die Ergebnisse werden in einer Liste gespeichert, die später weiterverarbeitet werden kann.\n",
    "\n",
    "Je nach Anwendungsfall kann diese Funktion angepasst werden, um andere Elemente und Attribute zu extrahieren. Einen Überblick über re3data Metadaten finden Sie in der Dokumentation des [re3data Metadatenschemas](https://doi.org/10.2312/re3.006) (die API verwendet Version 2.2 des re3data Metadatenschemas).\n",
    "\n",
    "Die Funktion **xml_structure** aus dem Paket **xml2** kann sehr nützlich sein, um die Struktur von XML-Objekten zu analysieren und XPath-Ausdrücke zu definieren.\n",
    "\n",
    "Bitte beachten Sie, dass die hier erwähnten Elemente in Version 2.2 des re3data Metadatenschemas für jedes Repositorium höchstens einmal vorkommen. Informationen zum Umgang mit Elementen, die mehrfach auftreten können, finden Sie in anderen Beispielen zur Nutzung der re3data API."
   ]
  },
  {
   "cell_type": "code",
   "execution_count": 9,
   "metadata": {},
   "outputs": [],
   "source": [
    "extract_repository_info <- function(repository_metadata_XML) {\n",
    "  list(\n",
    "    re3data_ID = xml_text(xml_find_all(repository_metadata_XML, \"//r3d:re3data.orgIdentifier\")),\n",
    "    repositoryName = xml_text(xml_find_all(repository_metadata_XML, \"//r3d:repositoryName\")),\n",
    "    repositoryUrl = xml_text(xml_find_all(repository_metadata_XML, \"//r3d:repositoryURL\")),\n",
    "    description = xml_text(xml_find_all(repository_metadata_XML, \"//r3d:description\"))\n",
    "  )\n",
    "}"
   ]
  },
  {
   "cell_type": "markdown",
   "metadata": {},
   "source": [
    "#### Schritt 5: Einen leeren Container für die Speicherung der Ergebnisse erstellen\n",
    "**repository_info** ist ein leerer Container, in dem die Ergebnisse der API-Abfrage gespeichert werden können. Der data frame hat vier Spalten, die den in **extract_repository_info** definierten Metadatenelementen entsprechen."
   ]
  },
  {
   "cell_type": "code",
   "execution_count": 10,
   "metadata": {},
   "outputs": [],
   "source": [
    "repository_info <- data.frame(matrix(ncol = 4, nrow = 0))\n",
    "\n",
    "colnames(repository_info) <- c(\"re3data_ID\", \"repositoryName\", \"repositoryUrl\", \"description\")"
   ]
  },
  {
   "cell_type": "markdown",
   "metadata": {},
   "source": [
    "#### Schritt 6: Gewünschte Informationen über Repositorien sammeln\n",
    "Nach der Vorbereitung der Liste mit URLs, der Extraktionsfunktion und des leeren Containers für die Ergebnisse können diese Komponenten kombiniert werden. Der folgende Codeblock durchläuft die Liste der URLs mit einer for-Schleife. Für jedes Repositorium werden mit **GET** Daten von der re3data API angefordert. Die XML response wird mit **read_xml** geparst, bevor **extract_repository_info** aufgerufen wird. Die Ergebnisse werden dann als neue Zeile an **repository_info** angehängt."
   ]
  },
  {
   "cell_type": "code",
   "execution_count": 11,
   "metadata": {},
   "outputs": [],
   "source": [
    "for (url in URLs) {\n",
    "  repository_metadata_request <- GET(url)\n",
    "  repository_metadata_XML <-read_xml(repository_metadata_request) \n",
    "  results_list <- extract_repository_info(repository_metadata_XML)\n",
    "  repository_info <- rbind(repository_info, results_list)\n",
    "}"
   ]
  },
  {
   "cell_type": "markdown",
   "metadata": {},
   "source": [
    "#### Ergebnisse\n",
    "Die Ergebnisse wurden in **repository_info** gespeichert. Sie können mit **print** vollständig ausgegeben, mit **head** inspiziert oder mit **write.csv** lokal gespeichert werden."
   ]
  },
  {
   "cell_type": "code",
   "execution_count": 13,
   "metadata": {},
   "outputs": [
    {
     "name": "stdout",
     "output_type": "stream",
     "text": [
      "     re3data_ID                                               repositoryName\n",
      "1  r3d100012578                                                      KITopen\n",
      "2  r3d100010087          Aktuelle Wetter- und Klimawerte deutscher Stationen\n",
      "3  r3d100010407                                   Der Karlsruher Wolkenatlas\n",
      "4  r3d100013265                                                    SupraBank\n",
      "5  r3d100013303                                           Risklayer Explorer\n",
      "6  r3d100013095          Informationssystem Graffiti in Deutschland (INGRID)\n",
      "7  r3d100011896                                                      THEREDA\n",
      "8  r3d100012861                          Virtuelles Skriptorium St. Matthias\n",
      "9  r3d100010748                                                    chemotion\n",
      "10 r3d100010406                                        Wetter, Wolken, Klima\n",
      "11 r3d100012645                                                        HeRBi\n",
      "12 r3d100013466                                                    RADAR4KIT\n",
      "13 r3d100011958                                                HALO database\n",
      "14 r3d100011957  Network for the Detection of Atmospheric Composition Change\n",
      "15 r3d100010401                               KASCADE Cosmic Ray Data Centre\n",
      "16 r3d100011471                                 TERENO Data Discovery Portal\n",
      "17 r3d100010135 Karlsruhe Astrophysical Database of Nucleosynthesis in Stars\n",
      "18 r3d100010664                                             World Stress Map\n",
      "19 r3d100012184                         KIT Whole-Body Human Motion Database\n",
      "20 r3d100013459                         IMK/IAA generated MIPAS/Envisat data\n",
      "21 r3d100011105                           European Zebrafish Resource Center\n",
      "22 r3d100010392                                Geothermal Information System\n",
      "23 r3d100011956                                                      CARIBIC\n",
      "                                                   repositoryUrl\n",
      "1                     https://www.bibliothek.kit.edu/kitopen.php\n",
      "2  http://imkhp2.physik.uni-karlsruhe.de/~muehr/wetterwerte.html\n",
      "3                                     http://www.wolkenatlas.de/\n",
      "4                                         https://suprabank.org/\n",
      "5                                 http://risklayer-explorer.com/\n",
      "6        https://www.uni-paderborn.de/forschungsprojekte/ingrid/\n",
      "7                                         https://www.thereda.de\n",
      "8                                http://stmatthias.uni-trier.de/\n",
      "9                   https://www.chemotion-repository.net/welcome\n",
      "10      http://imkhp2.physik.uni-karlsruhe.de/~muehr/wetter.html\n",
      "11                                     http://www.herbi.kit.edu/\n",
      "12                                        https://radar.kit.edu/\n",
      "13                                 https://halo-db.pa.op.dlr.de/\n",
      "14                                     http://www.ndaccdemo.org/\n",
      "15                                     https://kcdc.ikp.kit.edu/\n",
      "16                                   https://ddp.tereno.net/ddp/\n",
      "17                                          https://kadonis.org/\n",
      "18                              http://www.world-stress-map.org/\n",
      "19                    https://motion-database.humanoids.kit.edu/\n",
      "20                   https://www.imk-asf.kit.edu/english/308.php\n",
      "21                            https://www.ezrc.kit.edu/index.php\n",
      "22        https://www.geotis.de/homepage/GeotIS-Startpage?loc=en\n",
      "23                          https://www.caribic-atmospheric.com/\n",
      "                                                                                                                                                                                                                                                                                                                                                                                                                                                                                                                                                                                                                                                                                                                                                                                                                                                                                                                                                                                                                                                                                                                                                                                                                                                                                                                                                                                                                                                                                                                          description\n",
      "1                                                                                                                                                                                                                                                                                                                                                                                                                                                                                                                                                                                                                                                                                                                                                                                                                                                                                                                                                                                                                                                                                                                                                                                                                The repository KITopen  is a key infrastructure service at KIT. Immediately KITopen not only allows the publication and archiving of publications, but also on research data from all disciplines and data types. The focus is on research data from publication projects that are specifically prepared for re-use.\n",
      "2                                                                                                                                                                                                                                                                                                                                                                                                                                                                                                                                                                                                                                                                                                                                                                                                                                                                                                                                                                                                                                                                                                                                                                                                                                                                                                                                                                                                             Day averages, maximum, minimum and month sums of the precipitation of about 70 German stations with archive since 2008.\n",
      "3                                                                                                                                                                                                                                                                                                                                                                                                                                                                                                                                                                                                                                                                                                                                                                                                                                                                                                                                                                                                                                                                                                                                                                                         The Karlsruher Wolkenatlas includes images of different cloud species and of  some optical effects like circumzenithal arc, glories, and halos. Beside that phenomena like inversion or dust devil are shown. Another focus is on images of precipitation, different manifestations of precipation at earthground, rainbows and lightnings.\n",
      "4                                                                                                                                                                                                                                                                                                                                                                                                                                                                                                                                                                                                                                                                                                                                                                                                                                                                                                                                                                                                                                                                                                                                                                                                                                                                                                                                                                                                                                                                                    An open resource for intermolecular interactions\n",
      "5                                                                                                                                                                                                                                                                                                                                                                                                                                                                                               Risklayer Explorer is a collaboration between Risklayer GmbH and the Karlsruhe Institute of Technology's Center for Disaster Risk Management and Risk Reduction Technology (CEDIM). This website is still under development, but we are going live with it already, because we want to present data on the Novel Coronavirus (COVID-19) to help inform the public of the current situation.\\nYou will be able to track disaster events and read about our analysis here. Our work is a continuation of a new style of disaster research started by CEDIM in 2011 to analyze disasters immediately after their occurrence, assess the impacts, and retrace the temporal development of disaster events. We are already analyzing damaging earthquakes globally, providing you with event characteristics, earthquake's intensity footprints, as well as the population affected by earthquakes. In addition to earthquake events, we expect to be tracking and analyzing tropical cyclone, volcano and extreme weather events in 2020.\n",
      "6                                                                                                                                                                                                                                                                                                                                                                                                                                                                                                                                                                                                                                                                                                                                                                                                                                                                                                                                                                                                       The information system Graffiti in Germany (INGRID) is a cooperation project between the linguistics department at the University of Paderborn and the art history department at the Karlsruhe Institute of Technology (KIT). As part of the joint project, graffiti image collections will be compiled, stored in an image database and made available for scientific use. At present, more than 100,000 graffiti from the years 1983 to 2018 from major German cities are recorded, including Cologne, Mannheim and Munich.\n",
      "7                                                                                                                                                                                                                                                                                                                                                                                                                                                                                                                                                                                                                                                                                                                                                                                                                                                                                                                                                                                                                                                                                                                                                                                                                                         THEREDA (Thermodynamic Reference Database) is a joint project dedicated to the creation of a comprehensive, internally consistent thermodynamic reference database, to be used with suitable codes for the geochemical modeling of aqueous electrolyte solutions up to high concentrations.\n",
      "8                                                                                                                                                                                                                                                                                                                                                                                                                                                                                                                                                                                                                                                                                                                                                                                                                                                                                                                                                                                                                                                                                                                                                                                                         This repository contains about 500 medieval codices and manuscripts (dated from 8th to 18th century), which were a part of the BMBF-funded project eCodicology. The collection and database contains descriptional data about the manuscripts in TEI conformant XML format as well as digitized images of every codex page.\n",
      "9                                                                                                                                                                                                                                                                                                                                                                                                                                                                                                                                                                                                                                                                                                                                                                                                                                                                                                                                                                                                                                                                                                                                                 Chemotion-repository is a repository for the publication, re-use and archiving of research data in the domain of chemistry. It is suitable for molecules, reactions, and associated data. It stores original data in diverse file-formats including standard file types and as well as descriptions, metadata, and ontologies. The repository is open to all researchers worldwide.\n",
      "10                                                                                                                                                                                                                                                                                                                                                                                                                                                                                                                                                                                                                                                                                                                                                                                                                                                                                                                                                                                                                                                               Wetter, Wolken, Klima is a collection of actual and archived climate dates of Germany since 2004. Based at KIT Meteorological Institute it includes special Cloud images from Karlsruhe, actual weather records based on 70 german stations, average snowfall and precipitation of Germany, weather warnings worldwide with archive, satellite images worldwide, actual weather radar worldwide, analyses and prognosis and precipitation rate of Baden-Württemberg.\n",
      "11                                                                                                                                                                                                                                                                                                                                                                                                                                                                                                                                                                                                                                                                                                                                                                                                                                                                                                                                                                                                                                                                                                                                                                                                                                                                                                                                                                                        Helmholtz Repository of Bioparts (HeRBi) provides plasmids to the scientific community, delocalised within the different Helmholtz centers.\n",
      "12                                                                                                                                                                                                                                                                                                                                                                                                                                                                                                                                                                                                                                                                                                                                                                                              RADAR4KIT enables KIT researchers to manage, archive, share in project teams and publish their research data in a repository. It allows users to compile research data from completed scientific studies and projects into data packages, describe them with metadata, store them permanently and archive them or make them publicly accessible if required. Published data are given a persistent identifier (DOI) and can thus be found internationally and are also referenced in KITopen. The operator is the Karlsruhe Institute of Technology (KIT). RADAR4KIT is based on the RADAR service offered by FIZ Karlsruhe. The data is stored exclusively on the KIT IT infrastructure at the Steinbuch Centre for Computing (SCC).\n",
      "13                                                                                                                                                                                                                                                                                                                                                                                                                                                                                                                                                                                                                                                                                                                                                                                                                                          HALO-DB is the web platform of a data retrieval and long-term archive system.\\nThe system was established to hold and to manage a wide range of data based on observations of the HALO research aircraft and data which are related to HALO observations. \\nHALO (High-Altitude and LOng-range aircraft) is the new German research aircraft (German Science Community (DFG)). The aircraft, a Gulfstream GV-550 Business-Jet, is strongly modified for the application as a research platform.\\nHALO offers several advantages for scientific campaigns, such as its high range of more than 10000 km, a high maximum altitude of more than 15 km, as well as a relatively high payload.\n",
      "14                                                                                                                                                                                                                                                                                                                                                                                                                                                                                                                                                                                                                                                                                                                                                                                                                                                                                                                                                                                                                                                                                                    The Network for the Detection of Atmospheric Composition Change (NDACC), a major contributor to the worldwide atmospheric research effort, consists of a set of globally distributed research stations providing consistent, standardized, long-term measurements of atmospheric trace gases, particles, spectral UV radiation reaching the Earth's surface, and physical parameters, centered around the following priorities.\n",
      "15                                                                                                                                                                                                                                                                                                                                                                                                                                                                                                                                                                                                                                                                                                                                                                                                                                                                                           The aim of the project KCDC (KASCADE Cosmic Ray Data Centre) is the installation and establishment of a public data centre for high-energy astroparticle physics based on the data of the KASCADE experiment. KASCADE was a very successful large detector array which recorded data during more than 20 years on site of the KIT-Campus North, Karlsruhe, Germany (formerly Forschungszentrum, Karlsruhe) at 49,1°N, 8,4°O; 110m a.s.l. KASCADE collected within its lifetime more than 1.7 billion events of which some 425.000.000 survived all quality cuts. Initially about 160 million events are available here for public usage.\n",
      "16                                                                                                                                                                                                                                                                                                                                                                                                                                                                                                                                                                                                                                                                                                                                                                                                                                                                                                                                                                                                                                                                                                                                                                                                          This portal applicaton brings together the data collected and published via OGC Web-services from the individual observatories and provides access of the data to the public. Therefore, it serves as a database node to provide scientists and decision makers with reliable and well accessible data and data products.\n",
      "17                                                                                                                                                                                                                                                                                                                                                                                                                                                                                                                                                                                                                                                                                                                                                                                                                                                                                                                                                                                                                                                                                                                                                                         KADoNiS-p database:\\nThe KADoNiS project is an online database for cross sections relevant to the s-process and p-process (<U+03B3>-process). The present p-process library includes all available experimental data from (p,<U+03B3>), (p,n), (a,<U+03B3>), (a,n), and (a,p) reactions between 70Ge and 209Bi in or close to the respective Gamow window.\n",
      "18                                                                                                                                                                                                                                                                                                                                                                                                                                                                                                                                                                                                                                                                                                                                                                The World Stress Map (WSM) is a global compilation of information on the crustal present-day stress field maintained since 2009 at the Helmholtz Centre Potsdam GFZ German Research Centre for Geosciences. It is a collaborative project between academia and industry that aims to characterize the crustal stress pattern and to understand the stress sources. All stress information is analysed and compiled in a standardized format and quality-ranked for reliability and comparability on a global scale. \\nThe WSM is an open-access public database and is used by various academic and industrial institutions working in a wide range of Earth science disciplines such as geodynamics, hazard assessment, hydrocarbon exploitations and engineering.\n",
      "19                                                                                                                                                                                                                                                                                                                                                                                                                                                                                                                                                                                                                                                                                                                                                                                                                                                                                                                                                                                                                                                                                            With the KIT Whole-Body Human Motion Database, we aim to provide a simple way of sharing high-quality motion capture recordings of human whole-body motion. In addition, with the Motion Annotation Tool (https://motion-annotation.humanoids.kit.edu/ ), we aim to collect a comprehensive set of whole-body motions along with natural language descriptions of these motions (https://motion-annotation.humanoids.kit.edu/dataset/).\n",
      "20                          The Michelson Interferometer for Passive Atmospheric Sounding (MIPAS) onboard the ENVISAT satellite provided atmospheric infrared limb emission spectra. From these, profiles of temperature and atmospheric trace gases were retrieved using the research data processor developed at the Institut für Meteorologie und Klimaforschung (IMK), which is complemented by the component of non-local thermodynamic equilibrium (non-LTE) treatment from the Instituto de Astrofísica de Andalucía (IAA). The MIPAS data products on this server are commonly known as IMK/IAA MIPAS Level2 data products. The MIPAS instrument measured during two time frames: from 2002 to 2004 in full spectral resolution (high resolution = HR aka full resolution = FR), and from 2005 to 2012 in reduced spectral, but improved spatial resolution (reduced resolution = RR aka optimized resolution = OR). For this reason, there are different version numbers covering the full MIPAS mission period: xx for the HR/FR period, and 2xx for the RR/OR period (example: 61 for HR/FR, 261 for RR/OR). Beyond this, measurements were conducted in different modes covering different altitude ranges during the RR period: Nominal (6 – 70 km), MA (18 – 102 km), NLC (39 – 102 km), UA (42 – 172 km), UTLS-1 (5.5 – 19 km), UTLS-2 (12 – 42 km), AE (7 – 38 km). The non-nominal modes are identified by the following version numbers: MA = 5xx, NLC = 7xx, UA = 6xx, UTLS-1/2 = 1xx (no retrievals for AE mode).\n",
      "21 The EZRC at KIT houses the largest experimental fish facility in Europe with a capacity of more than 300,000 fish. Zebrafish stocks are maintained mostly as frozen sperm. Frequently requested lines are also kept alive as well as a selection of wildtype strains. Several thousand mutations in protein coding genes generated by TILLING in the Stemple lab of the Sanger Centre, Hinxton, UK and lines generated by ENU mutagenesis by the Nüsslein-Volhard lab in addition to transgenic lines and mutants generated by KIT groups or brought in through collaborations. We also accept submissions on an individual basis and ship fish upon request to PIs in Europe and elsewhere. EZRC also provides screening services and technologies such as imaging and high-throughput sequencing.  Key areas include automation of embryo handling and automated image acquisition and processing. Our platform also involves the development of novel microscopy techniques (e.g. SPIM, DSLM, robotic macroscope) to permit high-resolution, real-time imaging in 4D. By association with the ComPlat platform, we can support also chemical screens and offer libraries with up to 20,000 compounds in total for external users. As another service to the community the EZRC provides plasmids (cDNAs, transgenes, Talen, Crispr/cas9) maintained by the Helmholtz repository of Bioparts (HERBI) to the scientific community. In addition the fish facility keeps a range of medaka stocks, maintained by the Loosli  group.\n",
      "22                                                                                                                                                                                                                                                                                                                                                                                                                                                                                                                                              The geothermal information system (GeotIS) provides information and data compilations on deep aquifers in Germany relevant for geothermal exploitation. GeotIS is a public internet based information system and satisfies the demand for a comprehensive, largely scale-independent form of a geothermal atlas which can be continuously updated. GeotIS helps users identify geothermal potentials by visualizing temperature, hydraulic properties and depth levels of relevant stratigraphic units. A sophisticated map interface simplifies the navigation to all areas of interest. An additional component contains a catalogue of all geothermal installations in Germany. The primary objective of this project is to improve the quality of geothermal-plant project-planning and the estimation of the exploration risk for geothermal projects on selectable locations. However, concrete, location-specific analyses still remain the task of local feasibility studies.\n",
      "23                                                                                                                                                                                                                                                                                                                                                                                                                                                                                                                                                                                                                                                                                                                                                                                                                                                                                                                                                                                                                                                                                           CARIBIC is an innovative scientific project to study and monitor important chemical and physical processes in the Earth´s atmosphere. Detailed and extensive measurements are made during long distance flights. We deploy an airfreight container with automated scientific apparatus which are connected to an air and particle (aerosol) inlet underneath the aircraft. We use an Airbus A340-600 from Lufthansa since December 2004.\n"
     ]
    }
   ],
   "source": [
    "print(repository_info)"
   ]
  }
 ],
 "metadata": {
  "kernelspec": {
   "display_name": "R",
   "language": "R",
   "name": "ir"
  },
  "language_info": {
   "codemirror_mode": "r",
   "file_extension": ".r",
   "mimetype": "text/x-r-source",
   "name": "R",
   "pygments_lexer": "r",
   "version": "4.0.4"
  }
 },
 "nbformat": 4,
 "nbformat_minor": 4
}
